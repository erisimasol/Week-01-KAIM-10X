{
 "cells": [
  {
   "cell_type": "code",
   "execution_count": null,
   "id": "ef7623cf-70e5-4dd7-b2f6-47f4dbc76158",
   "metadata": {},
   "outputs": [],
   "source": []
  },
  {
   "cell_type": "markdown",
   "id": "1652a61d-5d19-4cdd-8dc5-c907fc9f4c13",
   "metadata": {},
   "source": [
    "# Descriptive Statisticss.\n"
   ]
  },
  {
   "cell_type": "markdown",
   "id": "80deb8fe-740e-4ac7-b212-1439822e5c6f",
   "metadata": {},
   "source": [
    "■\tObtain basic statistics for textual lengths (like headline length).\n"
   ]
  },
  {
   "cell_type": "markdown",
   "id": "633bbefb-b435-4563-b3ea-fde535ccb38b",
   "metadata": {},
   "source": [
    "■\tCount the number of articles per publisher to identify which publishers are most active.\n"
   ]
  },
  {
   "cell_type": "markdown",
   "id": "748388ed-8bef-4992-81c8-762bb6b21956",
   "metadata": {},
   "source": [
    "■\tAnalyze the publication dates to see trends over time, such as increased news frequency on particular days or during specific events."
   ]
  },
  {
   "cell_type": "code",
   "execution_count": 1,
   "id": "bec4bbf4-f22c-4d1f-be61-59f7c85cba9d",
   "metadata": {},
   "outputs": [],
   "source": [
    "import pandas as pd\n",
    "import numpy as np\n",
    "import matplotlib.pyplot  as plt\n",
    "import matplotlib as mp\n",
    "import streamlit as st\n",
    "import seaborn as sns\n",
    "from scipy.stats import zscore\n",
    "from mpl_toolkits.mplot3d import Axes3D\n",
    "import ipywidgets as widgets"
   ]
  },
  {
   "cell_type": "code",
   "execution_count": 2,
   "id": "1b740004-6ba6-4548-b436-4dc9290eabd5",
   "metadata": {},
   "outputs": [
    {
     "data": {
      "text/html": [
       "<div>\n",
       "<style scoped>\n",
       "    .dataframe tbody tr th:only-of-type {\n",
       "        vertical-align: middle;\n",
       "    }\n",
       "\n",
       "    .dataframe tbody tr th {\n",
       "        vertical-align: top;\n",
       "    }\n",
       "\n",
       "    .dataframe thead th {\n",
       "        text-align: right;\n",
       "    }\n",
       "</style>\n",
       "<table border=\"1\" class=\"dataframe\">\n",
       "  <thead>\n",
       "    <tr style=\"text-align: right;\">\n",
       "      <th></th>\n",
       "      <th>Unnamed: 0</th>\n",
       "      <th>headline</th>\n",
       "      <th>url</th>\n",
       "      <th>publisher</th>\n",
       "      <th>date</th>\n",
       "      <th>stock</th>\n",
       "    </tr>\n",
       "  </thead>\n",
       "  <tbody>\n",
       "    <tr>\n",
       "      <th>0</th>\n",
       "      <td>0</td>\n",
       "      <td>Stocks That Hit 52-Week Highs On Friday</td>\n",
       "      <td>https://www.benzinga.com/news/20/06/16190091/s...</td>\n",
       "      <td>Benzinga Insights</td>\n",
       "      <td>2020-06-05 10:30:54-04:00</td>\n",
       "      <td>A</td>\n",
       "    </tr>\n",
       "    <tr>\n",
       "      <th>1</th>\n",
       "      <td>1</td>\n",
       "      <td>Stocks That Hit 52-Week Highs On Wednesday</td>\n",
       "      <td>https://www.benzinga.com/news/20/06/16170189/s...</td>\n",
       "      <td>Benzinga Insights</td>\n",
       "      <td>2020-06-03 10:45:20-04:00</td>\n",
       "      <td>A</td>\n",
       "    </tr>\n",
       "    <tr>\n",
       "      <th>2</th>\n",
       "      <td>2</td>\n",
       "      <td>71 Biggest Movers From Friday</td>\n",
       "      <td>https://www.benzinga.com/news/20/05/16103463/7...</td>\n",
       "      <td>Lisa Levin</td>\n",
       "      <td>2020-05-26 04:30:07-04:00</td>\n",
       "      <td>A</td>\n",
       "    </tr>\n",
       "    <tr>\n",
       "      <th>3</th>\n",
       "      <td>3</td>\n",
       "      <td>46 Stocks Moving In Friday's Mid-Day Session</td>\n",
       "      <td>https://www.benzinga.com/news/20/05/16095921/4...</td>\n",
       "      <td>Lisa Levin</td>\n",
       "      <td>2020-05-22 12:45:06-04:00</td>\n",
       "      <td>A</td>\n",
       "    </tr>\n",
       "    <tr>\n",
       "      <th>4</th>\n",
       "      <td>4</td>\n",
       "      <td>B of A Securities Maintains Neutral on Agilent...</td>\n",
       "      <td>https://www.benzinga.com/news/20/05/16095304/b...</td>\n",
       "      <td>Vick Meyer</td>\n",
       "      <td>2020-05-22 11:38:59-04:00</td>\n",
       "      <td>A</td>\n",
       "    </tr>\n",
       "  </tbody>\n",
       "</table>\n",
       "</div>"
      ],
      "text/plain": [
       "   Unnamed: 0                                           headline  \\\n",
       "0           0            Stocks That Hit 52-Week Highs On Friday   \n",
       "1           1         Stocks That Hit 52-Week Highs On Wednesday   \n",
       "2           2                      71 Biggest Movers From Friday   \n",
       "3           3       46 Stocks Moving In Friday's Mid-Day Session   \n",
       "4           4  B of A Securities Maintains Neutral on Agilent...   \n",
       "\n",
       "                                                 url          publisher  \\\n",
       "0  https://www.benzinga.com/news/20/06/16190091/s...  Benzinga Insights   \n",
       "1  https://www.benzinga.com/news/20/06/16170189/s...  Benzinga Insights   \n",
       "2  https://www.benzinga.com/news/20/05/16103463/7...         Lisa Levin   \n",
       "3  https://www.benzinga.com/news/20/05/16095921/4...         Lisa Levin   \n",
       "4  https://www.benzinga.com/news/20/05/16095304/b...         Vick Meyer   \n",
       "\n",
       "                        date stock  \n",
       "0  2020-06-05 10:30:54-04:00     A  \n",
       "1  2020-06-03 10:45:20-04:00     A  \n",
       "2  2020-05-26 04:30:07-04:00     A  \n",
       "3  2020-05-22 12:45:06-04:00     A  \n",
       "4  2020-05-22 11:38:59-04:00     A  "
      ]
     },
     "execution_count": 2,
     "metadata": {},
     "output_type": "execute_result"
    }
   ],
   "source": [
    "rawdata = pd.read_csv(r\"C:\\Users\\Sima\\Desktop\\AIM-ML\\Week-01-Data\\Data\\raw_analyst_ratings.csv\")\n",
    "rawdata.head()"
   ]
  },
  {
   "cell_type": "code",
   "execution_count": 3,
   "id": "ffed66dc-8641-4a50-9aba-b287e72677cf",
   "metadata": {},
   "outputs": [
    {
     "data": {
      "text/plain": [
       "0"
      ]
     },
     "execution_count": 3,
     "metadata": {},
     "output_type": "execute_result"
    }
   ],
   "source": [
    "rawdata.duplicated().sum()"
   ]
  },
  {
   "cell_type": "markdown",
   "id": "3229d0d5-1ac2-498a-942d-3c333b4fb591",
   "metadata": {},
   "source": [
    "# Calculate the length of each headline"
   ]
  },
  {
   "cell_type": "code",
   "execution_count": 6,
   "id": "8d6bb73f-18db-45c5-a453-283ea99d062d",
   "metadata": {},
   "outputs": [
    {
     "name": "stdout",
     "output_type": "stream",
     "text": [
      "headline\n",
      "Benzinga's Top Upgrades                                                                                                                 5449\n",
      "Benzinga's Top Downgrades                                                                                                               5372\n",
      "Benzinga's Top Initiations                                                                                                              4241\n",
      "Stocks That Hit 52-Week Lows On Thursday                                                                                                3962\n",
      "Morning Market Losers                                                                                                                   3440\n",
      "                                                                                                                                        ... \n",
      "FireEye Option Alert: Oct 18 $14 Calls at the Ask: 500 @ $0.641 vs 30793 OI; Earnings 10/29 After Close [est] Ref=$13.8                    1\n",
      "FireEye shares are trading higher following unconfirmed rumors indicating the company has has hired Goldman Sachs to explore a sale.       1\n",
      "FireEye Shares Resume Trade                                                                                                                1\n",
      "FireEye Share Spike, Hearing Co. Has Hired Goldman Sachs To Advise On A Potential Sale; Unconfirmed                                        1\n",
      "China Zenix Auto International Opens For Trading at $6.00; IPO Price Set at $6.00                                                          1\n",
      "Name: count, Length: 845770, dtype: int64\n"
     ]
    }
   ],
   "source": [
    "headline_counts = rawdata['headline'].value_counts()\n",
    "print (headline_counts)"
   ]
  },
  {
   "cell_type": "code",
   "execution_count": 23,
   "id": "6fa0651b-eef8-4bbd-8a9f-f18ef57415da",
   "metadata": {},
   "outputs": [
    {
     "data": {
      "text/plain": [
       "<bound method IndexOpsMixin.value_counts of 0                    Stocks That Hit 52-Week Highs On Friday\n",
       "1                 Stocks That Hit 52-Week Highs On Wednesday\n",
       "2                              71 Biggest Movers From Friday\n",
       "3               46 Stocks Moving In Friday's Mid-Day Session\n",
       "4          B of A Securities Maintains Neutral on Agilent...\n",
       "                                 ...                        \n",
       "1407323               Top Narrow Based Indexes For August 29\n",
       "1407324    Recap: Wednesday's Top Percentage Gainers and ...\n",
       "1407325    UPDATE: Oppenheimer Color on China Zenix Auto ...\n",
       "1407326    Oppenheimer Initiates China Zenix At Outperfor...\n",
       "1407327    China Zenix Auto International Opens For Tradi...\n",
       "Name: headline_new, Length: 1407328, dtype: object>"
      ]
     },
     "execution_count": 23,
     "metadata": {},
     "output_type": "execute_result"
    }
   ],
   "source": [
    "rawdata [\"headline_new\"]= rawdata [\"headline\"].astype(str)\n",
    "rawdata [\"headline_new\"].value_counts"
   ]
  },
  {
   "cell_type": "code",
   "execution_count": 8,
   "id": "0ccf8334",
   "metadata": {},
   "outputs": [
    {
     "name": "stdout",
     "output_type": "stream",
     "text": [
      "publisher\n",
      "Paul Quintaro                      228373\n",
      "Lisa Levin                         186979\n",
      "Benzinga Newsdesk                  150484\n",
      "Charles Gross                       96732\n",
      "Monica Gerson                       82380\n",
      "                                    ...  \n",
      "Shazir Mucklai - Imperium Group         1\n",
      "Laura Jennings                          1\n",
      "Eric Martin                             1\n",
      "Jose Rodrigo                            1\n",
      "Jeremie Capron                          1\n",
      "Name: count, Length: 1034, dtype: int64\n"
     ]
    }
   ],
   "source": [
    "publisher_counts = rawdata['publisher'].value_counts()\n",
    "print (publisher_counts)"
   ]
  },
  {
   "cell_type": "markdown",
   "id": "03f26433",
   "metadata": {},
   "source": [
    "# **Top-Ten-Publisher**"
   ]
  },
  {
   "cell_type": "code",
   "execution_count": 16,
   "id": "e71e54d3",
   "metadata": {},
   "outputs": [],
   "source": [
    "top_publishers = publisher_counts.nlargest(10)"
   ]
  },
  {
   "cell_type": "code",
   "execution_count": 17,
   "id": "a16100a0",
   "metadata": {},
   "outputs": [
    {
     "name": "stdout",
     "output_type": "stream",
     "text": [
      "publisher\n",
      "Paul Quintaro        228373\n",
      "Lisa Levin           186979\n",
      "Benzinga Newsdesk    150484\n",
      "Charles Gross         96732\n",
      "Monica Gerson         82380\n",
      "Eddie Staley          57254\n",
      "Hal Lindon            49047\n",
      "ETF Professor         28489\n",
      "Juan Lopez            28438\n",
      "Benzinga Staff        28114\n",
      "Name: count, dtype: int64\n"
     ]
    }
   ],
   "source": [
    "print(top_publishers)"
   ]
  },
  {
   "cell_type": "markdown",
   "id": "8db1c352",
   "metadata": {},
   "source": [
    "# **Top-Ten-least-Publisher**"
   ]
  },
  {
   "cell_type": "code",
   "execution_count": 14,
   "id": "c5ccb451",
   "metadata": {},
   "outputs": [],
   "source": [
    "bottom_publishers = publisher_counts.nsmallest(10)"
   ]
  },
  {
   "cell_type": "code",
   "execution_count": 15,
   "id": "bc28f598",
   "metadata": {},
   "outputs": [
    {
     "name": "stdout",
     "output_type": "stream",
     "text": [
      "publisher\n",
      "StreetID                      1\n",
      "Terry Allen G                 1\n",
      "LRWray                        1\n",
      "White Diamond Research        1\n",
      "Stan Blacker                  1\n",
      "Chris Freeman                 1\n",
      "Brett's Stock Market Pulse    1\n",
      "LeftCoastHedgie               1\n",
      "Bull Market Bear              1\n",
      "Robert Morris                 1\n",
      "Name: count, dtype: int64\n"
     ]
    }
   ],
   "source": [
    "print(bottom_publishers)"
   ]
  },
  {
   "cell_type": "markdown",
   "id": "6d9ffc0f",
   "metadata": {},
   "source": [
    "# **Top-Ten-headline**"
   ]
  },
  {
   "cell_type": "code",
   "execution_count": 26,
   "id": "dc952a38",
   "metadata": {},
   "outputs": [],
   "source": [
    "\n",
    "top_headline = headline_counts.nlargest(10)\n"
   ]
  },
  {
   "cell_type": "code",
   "execution_count": 27,
   "id": "f4208dcf",
   "metadata": {},
   "outputs": [
    {
     "name": "stdout",
     "output_type": "stream",
     "text": [
      "headline\n",
      "Benzinga's Top Upgrades                             5449\n",
      "Benzinga's Top Downgrades                           5372\n",
      "Benzinga's Top Initiations                          4241\n",
      "Stocks That Hit 52-Week Lows On Thursday            3962\n",
      "Morning Market Losers                               3440\n",
      "Stocks Hitting 52-Week Highs                        3393\n",
      "Stocks Hitting 52-Week Lows                         3064\n",
      "Benzinga's Volume Movers                            2796\n",
      "Stocks That Hit 52-Week Highs On Friday             2532\n",
      "A Peek Into The Market Before The Trading Starts    2364\n",
      "Name: count, dtype: int64\n"
     ]
    }
   ],
   "source": [
    "\n",
    "print (top_headline)"
   ]
  },
  {
   "cell_type": "markdown",
   "id": "d9956699",
   "metadata": {},
   "source": [
    "# Convert the 'date' column to datetime format"
   ]
  },
  {
   "cell_type": "markdown",
   "id": "397d2043-a6fc-4cd4-9b9b-a30ee55399a7",
   "metadata": {},
   "source": [
    "# Calculate basic statistics"
   ]
  }
 ],
 "metadata": {
  "kernelspec": {
   "display_name": "base",
   "language": "python",
   "name": "python3"
  },
  "language_info": {
   "codemirror_mode": {
    "name": "ipython",
    "version": 3
   },
   "file_extension": ".py",
   "mimetype": "text/x-python",
   "name": "python",
   "nbconvert_exporter": "python",
   "pygments_lexer": "ipython3",
   "version": "3.11.7"
  }
 },
 "nbformat": 4,
 "nbformat_minor": 5
}
